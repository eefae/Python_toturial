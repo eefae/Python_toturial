{
 "cells": [
  {
   "cell_type": "code",
   "execution_count": 6,
   "id": "480b9511-ee4b-494b-86a9-8417bade7cdc",
   "metadata": {},
   "outputs": [
    {
     "name": "stdout",
     "output_type": "stream",
     "text": [
      "0\n",
      "1\n",
      "2\n",
      "4\n",
      "==================================================\n",
      "0\n",
      "1\n",
      "2\n",
      "3\n",
      "4\n",
      "==================================================\n",
      "0\n",
      "1\n",
      "2\n"
     ]
    }
   ],
   "source": [
    "for i in range(0,5):\n",
    "    if i == 3:\n",
    "        continue\n",
    "    print(i)\n",
    "print(\"=\" * 50)\n",
    "for i in range(0,5):\n",
    "    if i == 3:\n",
    "        pass\n",
    "    print(i)\n",
    "print(\"=\" * 50)\n",
    "for i in range(0,5):\n",
    "    if i == 3:\n",
    "        break\n",
    "    print(i)"
   ]
  },
  {
   "cell_type": "code",
   "execution_count": 4,
   "id": "caad67e2-798c-4d63-be62-d727fa6ef0a1",
   "metadata": {},
   "outputs": [
    {
     "name": "stdout",
     "output_type": "stream",
     "text": [
      "您好\n",
      "Hello\n",
      "Hi\n",
      "您好\n",
      "Hello\n",
      "Hi\n",
      "您好\n",
      "Hello\n",
      "Hi\n",
      "您好\n",
      "Hello\n"
     ]
    }
   ],
   "source": [
    "a = 0\n",
    "while a <= 10:\n",
    "    if a % 3 == 1:\n",
    "        print(\"Hello\")\n",
    "    elif a % 3 == 2:\n",
    "        print(\"Hi\")\n",
    "    else:\n",
    "        print(\"您好\")\n",
    "    a += 1"
   ]
  },
  {
   "cell_type": "code",
   "execution_count": 2,
   "id": "fbca29b0-6eef-42f6-93d4-d40cf4e70052",
   "metadata": {},
   "outputs": [
    {
     "data": {
      "text/plain": [
       "[2, 4]"
      ]
     },
     "execution_count": 2,
     "metadata": {},
     "output_type": "execute_result"
    }
   ],
   "source": [
    "# List Comprehension\n",
    "x = [1, 2, 3, 4, 5]\n",
    "y = [i for i in x if i % 2 == 0]\n",
    "y"
   ]
  }
 ],
 "metadata": {
  "kernelspec": {
   "display_name": "Python 3 (ipykernel)",
   "language": "python",
   "name": "python3"
  },
  "language_info": {
   "codemirror_mode": {
    "name": "ipython",
    "version": 3
   },
   "file_extension": ".py",
   "mimetype": "text/x-python",
   "name": "python",
   "nbconvert_exporter": "python",
   "pygments_lexer": "ipython3",
   "version": "3.11.9"
  }
 },
 "nbformat": 4,
 "nbformat_minor": 5
}
