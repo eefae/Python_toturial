{
 "cells": [
  {
   "cell_type": "code",
   "execution_count": 1,
   "id": "53d6bd49-aa28-4123-9975-44a1901a6226",
   "metadata": {},
   "outputs": [
    {
     "name": "stdout",
     "output_type": "stream",
     "text": [
      "['__add__', '__class__', '__contains__', '__delattr__', '__dir__', '__doc__', '__eq__', '__format__', '__ge__', '__getattribute__', '__getitem__', '__getnewargs__', '__getstate__', '__gt__', '__hash__', '__init__', '__init_subclass__', '__iter__', '__le__', '__len__', '__lt__', '__mod__', '__mul__', '__ne__', '__new__', '__reduce__', '__reduce_ex__', '__repr__', '__rmod__', '__rmul__', '__setattr__', '__sizeof__', '__str__', '__subclasshook__', 'capitalize', 'casefold', 'center', 'count', 'encode', 'endswith', 'expandtabs', 'find', 'format', 'format_map', 'index', 'isalnum', 'isalpha', 'isascii', 'isdecimal', 'isdigit', 'isidentifier', 'islower', 'isnumeric', 'isprintable', 'isspace', 'istitle', 'isupper', 'join', 'ljust', 'lower', 'lstrip', 'maketrans', 'partition', 'removeprefix', 'removesuffix', 'replace', 'rfind', 'rindex', 'rjust', 'rpartition', 'rsplit', 'rstrip', 'split', 'splitlines', 'startswith', 'strip', 'swapcase', 'title', 'translate', 'upper', 'zfill']\n"
     ]
    }
   ],
   "source": [
    "# 查看該物見的屬性及方法\n",
    "a = \"Hello\"\n",
    "print(dir(a))"
   ]
  },
  {
   "cell_type": "code",
   "execution_count": 2,
   "id": "efcea0ef",
   "metadata": {},
   "outputs": [],
   "source": [
    "class Parent():\n",
    "    def __init__(self, height: int, weight: int) -> None:\n",
    "        self.height = height\n",
    "        self.weight = weight\n",
    "    def post(self):\n",
    "        return \"發話中\""
   ]
  },
  {
   "cell_type": "code",
   "execution_count": 3,
   "id": "08e5d92a",
   "metadata": {},
   "outputs": [],
   "source": [
    "class Child(Parent):\n",
    "    def __init__(self, height: int, weight:int):\n",
    "        super().__init__(height,weight) # 這裡將Parent所有方法和屬性繼承下來\n",
    "        self.height = height\n",
    "        self.weight = weight\n",
    "    def reply(self):\n",
    "        return \"回話中\"\n",
    "    def content(self):\n",
    "        return \"我知道了\""
   ]
  },
  {
   "cell_type": "code",
   "execution_count": 4,
   "id": "53f76828",
   "metadata": {},
   "outputs": [
    {
     "name": "stdout",
     "output_type": "stream",
     "text": [
      "170\n",
      "85\n",
      "發話中\n",
      "--------------\n",
      "150\n",
      "40\n",
      "發話中\n",
      "回話中\n",
      "我知道了\n"
     ]
    }
   ],
   "source": [
    "obj_parent = Parent(170, 85)\n",
    "print(obj_parent.height)\n",
    "print(obj_parent.weight)\n",
    "print(obj_parent.post())\n",
    "\n",
    "print(\"--------------\")\n",
    "\n",
    "obj_child = Child(150, 40)\n",
    "print(obj_child.height)\n",
    "print(obj_child.weight)\n",
    "print(obj_child.post())\n",
    "print(obj_child.reply())\n",
    "print(obj_child.content())"
   ]
  }
 ],
 "metadata": {
  "kernelspec": {
   "display_name": "Python 3 (ipykernel)",
   "language": "python",
   "name": "python3"
  },
  "language_info": {
   "codemirror_mode": {
    "name": "ipython",
    "version": 3
   },
   "file_extension": ".py",
   "mimetype": "text/x-python",
   "name": "python",
   "nbconvert_exporter": "python",
   "pygments_lexer": "ipython3",
   "version": "3.11.9"
  }
 },
 "nbformat": 4,
 "nbformat_minor": 5
}
