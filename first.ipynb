{
 "cells": [
  {
   "cell_type": "code",
   "execution_count": 3,
   "id": "e6a49ced-a0c8-441e-8aed-146651d4be4f",
   "metadata": {},
   "outputs": [
    {
     "name": "stdout",
     "output_type": "stream",
     "text": [
      "Hello World!\n"
     ]
    }
   ],
   "source": [
    "# First python program\n",
    "demo = \"Hello World!\"\n",
    "print(demo)"
   ]
  },
  {
   "cell_type": "code",
   "execution_count": 5,
   "id": "b4a6033d-4ee7-44ca-be2c-5278dcf10864",
   "metadata": {},
   "outputs": [],
   "source": [
    "a = 100\n",
    "b = 30\n",
    "c = 2.5\n",
    "\n",
    "ans1 = a + b * c\n",
    "ans2 = (a - b) / c"
   ]
  }
 ],
 "metadata": {
  "kernelspec": {
   "display_name": "Python 3 (ipykernel)",
   "language": "python",
   "name": "python3"
  },
  "language_info": {
   "codemirror_mode": {
    "name": "ipython",
    "version": 3
   },
   "file_extension": ".py",
   "mimetype": "text/x-python",
   "name": "python",
   "nbconvert_exporter": "python",
   "pygments_lexer": "ipython3",
   "version": "3.11.9"
  }
 },
 "nbformat": 4,
 "nbformat_minor": 5
}
