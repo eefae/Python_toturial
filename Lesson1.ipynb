{
 "cells": [
  {
   "cell_type": "code",
   "execution_count": 3,
   "id": "e6a49ced-a0c8-441e-8aed-146651d4be4f",
   "metadata": {},
   "outputs": [
    {
     "name": "stdout",
     "output_type": "stream",
     "text": [
      "Hello World!\n"
     ]
    }
   ],
   "source": [
    "# First python program\n",
    "demo = \"Hello World!\"\n",
    "print(demo)"
   ]
  },
  {
   "cell_type": "code",
   "execution_count": 14,
   "id": "b4a6033d-4ee7-44ca-be2c-5278dcf10864",
   "metadata": {},
   "outputs": [
    {
     "name": "stdout",
     "output_type": "stream",
     "text": [
      "3000 175.0 28.0 False 3 10 900\n"
     ]
    }
   ],
   "source": [
    "a = 100\n",
    "b = 30\n",
    "c = 2.5\n",
    "\n",
    "ans0 = a * b\n",
    "ans1 = a + b * c\n",
    "ans2 = (a - b) / c\n",
    "ans3 = a < b\n",
    "ans4 = a // b\n",
    "ans5 = a % b\n",
    "ans6 = b ** 2\n",
    "print(ans0,ans1,ans2,ans3,ans4,ans5,ans6)"
   ]
  },
  {
   "cell_type": "code",
   "execution_count": 15,
   "id": "c22508a8-3540-402f-918e-a1a07b9e89d7",
   "metadata": {},
   "outputs": [
    {
     "name": "stdout",
     "output_type": "stream",
     "text": [
      "False\n",
      "True\n",
      "True\n",
      "True\n"
     ]
    }
   ],
   "source": [
    "d = 100\n",
    "e = 200\n",
    "f = 100\n",
    "\n",
    "print(d >= e)\n",
    "print(d <= e)\n",
    "print(d != e)\n",
    "print(d == f)"
   ]
  },
  {
   "cell_type": "code",
   "execution_count": 1,
   "id": "4bd130ef-287f-4d68-8cb0-7a4288a2dcd7",
   "metadata": {},
   "outputs": [
    {
     "name": "stdout",
     "output_type": "stream",
     "text": [
      "True\n",
      "False\n",
      "True\n",
      "True\n"
     ]
    }
   ],
   "source": [
    "a = True\n",
    "b = False\n",
    "c = True\n",
    "\n",
    "print(a | b)     \n",
    "print(a and b)    \n",
    "print(a | c)     \n",
    "print(a and c)    "
   ]
  },
  {
   "cell_type": "code",
   "execution_count": 11,
   "id": "e0f2c5f2-db32-432b-9ca2-6ba4d67db827",
   "metadata": {},
   "outputs": [
    {
     "name": "stdout",
     "output_type": "stream",
     "text": [
      "[0, 1, 2, 3, 4, 5, 6, 7, 8, 9]\n",
      "[9, 8, 7, 6, 5, 4, 3, 2, 1, 0]\n",
      "0\n",
      "9\n",
      "[9, 8, 7, 6, 5, 4, 3, 2, 1, 0, 11]\n",
      "[9, 8, 7, 6, 5, 3, 2, 1, 0, 11]\n"
     ]
    }
   ],
   "source": [
    "a = [0,3,2,1,4,9,6,8,7,5]\n",
    "a.sort()\n",
    "print(a)\n",
    "a.sort(reverse=True)\n",
    "print(a)\n",
    "print(a[-1])\n",
    "print(a[0])\n",
    "a.append(11)\n",
    "print(a)\n",
    "a.remove(4)\n",
    "print(a)"
   ]
  },
  {
   "cell_type": "code",
   "execution_count": 16,
   "id": "947739f6-bb62-4b27-b494-3a7a4acac6a2",
   "metadata": {},
   "outputs": [
    {
     "name": "stdout",
     "output_type": "stream",
     "text": [
      "{'Monday': 1, 'Tuesday': 2, 'Wednesday': 3}\n",
      "{'Monday': 1, 'Tuesday': 2}\n"
     ]
    }
   ],
   "source": [
    "a = {\n",
    "    \"Monday\": 1,\n",
    "    \"Tuesday\": 2,\n",
    "}\n",
    "a[\"Wednesday\"] = 3\n",
    "print(a)\n",
    "del a['Wednesday']\n",
    "print(a)"
   ]
  },
  {
   "cell_type": "code",
   "execution_count": 19,
   "id": "beca2873-8f1c-4bc9-8409-8e321ed50db1",
   "metadata": {},
   "outputs": [
    {
     "name": "stdout",
     "output_type": "stream",
     "text": [
      "(9, 6, 8, 7, 5, 0, 3, 2, 1, 4)\n",
      "6\n"
     ]
    }
   ],
   "source": [
    "a = (0,3,2,1,4)\n",
    "b = (9,6,8,7,5)\n",
    "c = b + a\n",
    "print(c)\n",
    "print(c[1])"
   ]
  },
  {
   "cell_type": "code",
   "execution_count": 27,
   "id": "174a75e6-1106-4326-adf7-85789c9e72a3",
   "metadata": {},
   "outputs": [
    {
     "name": "stdout",
     "output_type": "stream",
     "text": [
      "set() {1, 2, 3, 4, 5} {'x', 'z', 'y'} {'l', 'o', 'h', 'e', '!'}\n",
      "{'python'}\n"
     ]
    }
   ],
   "source": [
    "a = set()\n",
    "b = set([1,2,3,4,5,1,2,3,4,5])\n",
    "c = set({'x':1,'y':2,'z':3})\n",
    "d = set('hello!')\n",
    "print(a,b,c,d)\n",
    "a.add(\"python\")\n",
    "print(a)"
   ]
  }
 ],
 "metadata": {
  "kernelspec": {
   "display_name": "Python 3 (ipykernel)",
   "language": "python",
   "name": "python3"
  },
  "language_info": {
   "codemirror_mode": {
    "name": "ipython",
    "version": 3
   },
   "file_extension": ".py",
   "mimetype": "text/x-python",
   "name": "python",
   "nbconvert_exporter": "python",
   "pygments_lexer": "ipython3",
   "version": "3.11.9"
  }
 },
 "nbformat": 4,
 "nbformat_minor": 5
}
