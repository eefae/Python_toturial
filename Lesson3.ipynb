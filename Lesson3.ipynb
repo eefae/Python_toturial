{
 "cells": [
  {
   "cell_type": "code",
   "execution_count": 2,
   "id": "9ac18524-6e4c-4dd6-9f5d-69a9aa64435a",
   "metadata": {},
   "outputs": [
    {
     "name": "stdout",
     "output_type": "stream",
     "text": [
      "Hello Marcus!!\n",
      "Now is 2024-08-05 14:29:26.593511\n",
      "Hello Vita!!\n",
      "Now is 2024-08-05 14:29:26.594146\n",
      "40 + 60 = 100\n"
     ]
    }
   ],
   "source": [
    "from datetime import datetime\n",
    "from Lesson3_module import test\n",
    "\n",
    "def hello(name: str = \"Marcus\") -> str:\n",
    "    print(f\"Hello {name}!!\")\n",
    "    print(f\"Now is {datetime.now()}\")\n",
    "\n",
    "hello()\n",
    "hello(\"Vita\")\n",
    "\n",
    "a = 20\n",
    "b = 30\n",
    "\n",
    "c,d,ans = test(a , b)\n",
    "print(f\"{c} + {d} = {ans}\")"
   ]
  }
 ],
 "metadata": {
  "kernelspec": {
   "display_name": "Python 3 (ipykernel)",
   "language": "python",
   "name": "python3"
  },
  "language_info": {
   "codemirror_mode": {
    "name": "ipython",
    "version": 3
   },
   "file_extension": ".py",
   "mimetype": "text/x-python",
   "name": "python",
   "nbconvert_exporter": "python",
   "pygments_lexer": "ipython3",
   "version": "3.11.9"
  }
 },
 "nbformat": 4,
 "nbformat_minor": 5
}
