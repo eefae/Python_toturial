{
 "cells": [
  {
   "cell_type": "code",
   "execution_count": 1,
   "metadata": {},
   "outputs": [],
   "source": [
    "import os\n",
    "from pathlib import Path\n",
    "from flask import (\n",
    "    Flask,\n",
    "    request,\n",
    "    abort\n",
    ")\n",
    "from linebot.v3 import WebhookHandler\n",
    "from linebot.v3.exceptions import InvalidSignatureError\n",
    "from linebot.v3.messaging import (\n",
    "    Configuration, \n",
    "    ApiClient, \n",
    "    MessagingApi, \n",
    "    ReplyMessageRequest, \n",
    "    TextMessage,\n",
    ")\n",
    "from linebot.v3.webhooks import (\n",
    "    MessageEvent,\n",
    "    TextMessageContent\n",
    ")\n",
    "from line_token import *\n",
    "\n",
    "config_file = Path(\"line_token.py\")\n",
    "\n",
    "app = Flask(__name__)\n",
    "line_bot_api = Configuration(access_token=CHANNEL_ACCESS_TOKEN)\n",
    "handler = WebhookHandler(CHANNEL_SECRET)\n",
    "\n",
    "@app.route('/')\n",
    "def hello():\n",
    "    return 'Hello, World!'\n",
    "\n",
    "@app.route('/callback',methods=['POST'])\n",
    "def callback():\n",
    "    signature = request.headers['X-Line-Signature']\n",
    "    body = request.get_data(as_text=True)\n",
    "    app.logger.info(\"Request body: \" + body)\n",
    "    try:\n",
    "        handler.handle(body, signature)\n",
    "        return \"OK\"\n",
    "    except InvalidSignatureError as e:\n",
    "        print(e)\n",
    "        abort(400)\n",
    "\n",
    "@handler.add(MessageEvent, message=TextMessageContent)\n",
    "def handle_message(event: MessageEvent):\n",
    "    with ApiClient(line_bot_api) as api_client:\n",
    "        message = MessagingApi(api_client)\n",
    "        reply_token = event.reply_token\n",
    "        replyText = event.message.text\n",
    "        print(f\"client submit {replyText}\")\n",
    "\n",
    "        list_reply = [\n",
    "            TextMessage(text=replyText)\n",
    "        ]\n",
    "\n",
    "        message.reply_message_with_http_info(\n",
    "            ReplyMessageRequest(\n",
    "                reply_token=reply_token,\n",
    "                messages=list_reply\n",
    "            )\n",
    "        )"
   ]
  },
  {
   "cell_type": "code",
   "execution_count": 2,
   "metadata": {},
   "outputs": [
    {
     "name": "stdout",
     "output_type": "stream",
     "text": [
      " * Serving Flask app '__main__'\n",
      " * Debug mode: off\n"
     ]
    },
    {
     "name": "stderr",
     "output_type": "stream",
     "text": [
      "WARNING: This is a development server. Do not use it in a production deployment. Use a production WSGI server instead.\n",
      " * Running on all addresses (0.0.0.0)\n",
      " * Running on http://127.0.0.1:5555\n",
      " * Running on http://192.168.1.109:5555\n",
      "Press CTRL+C to quit\n",
      "127.0.0.1 - - [06/Aug/2024 09:59:04] \"GET / HTTP/1.1\" 200 -\n",
      "127.0.0.1 - - [06/Aug/2024 09:59:31] \"GET / HTTP/1.1\" 200 -\n",
      "127.0.0.1 - - [06/Aug/2024 09:59:31] \"GET /favicon.ico HTTP/1.1\" 404 -\n"
     ]
    },
    {
     "name": "stdout",
     "output_type": "stream",
     "text": [
      "client submit aaa\n"
     ]
    },
    {
     "name": "stderr",
     "output_type": "stream",
     "text": [
      "127.0.0.1 - - [06/Aug/2024 09:59:57] \"POST /callback HTTP/1.1\" 200 -\n"
     ]
    }
   ],
   "source": [
    "port = int(os.environ.get('PORT', 5555))\n",
    "app.run(host='0.0.0.0', port=port, use_reloader=False)"
   ]
  }
 ],
 "metadata": {
  "kernelspec": {
   "display_name": "myenv",
   "language": "python",
   "name": "python3"
  },
  "language_info": {
   "codemirror_mode": {
    "name": "ipython",
    "version": 3
   },
   "file_extension": ".py",
   "mimetype": "text/x-python",
   "name": "python",
   "nbconvert_exporter": "python",
   "pygments_lexer": "ipython3",
   "version": "3.11.9"
  }
 },
 "nbformat": 4,
 "nbformat_minor": 2
}
